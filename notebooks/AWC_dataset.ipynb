{
 "cells": [
  {
   "cell_type": "code",
   "execution_count": 2,
   "id": "e69c4ba1-85f3-4a02-ae37-c64347a01803",
   "metadata": {
    "tags": []
   },
   "outputs": [],
   "source": [
    "#Import all relevant libraries\n",
    "import numpy as np\n",
    "import pandas as pd\n",
    "import matplotlib.pyplot as plt\n",
    "import seaborn as sns\n",
    "from scipy.stats import zscore\n",
    " \n",
    "## This statement allows the visuals to render within your Jupyter Notebook.\n",
    "%matplotlib inline"
   ]
  },
  {
   "cell_type": "markdown",
   "id": "e395e8bf-b530-4720-8d0f-26811e927d6e",
   "metadata": {},
   "source": [
    "## Loading the data\n",
    "We can now load the dataset into pandas using the read_csv() function. This converts the CSV file into a Pandas dataframe."
   ]
  },
  {
   "cell_type": "code",
   "execution_count": 5,
   "id": "cf4030b0-aa7f-4bd7-8e9c-c1b7f4d202d0",
   "metadata": {
    "tags": []
   },
   "outputs": [],
   "source": [
    "#Read in the csv file and convert to a Pandas dataframe\n",
    "df = pd.read_csv(\"../data/awc.csv\")"
   ]
  },
  {
   "cell_type": "markdown",
   "id": "ca5ed983-0f72-43eb-8168-6fafd48c562e",
   "metadata": {},
   "source": [
    "### Viewing the dataframe\n",
    "We can get a quick sense of the size of our dataset by using the shape method. This returns a tuple with the number of rows and columns in the dataset."
   ]
  },
  {
   "cell_type": "code",
   "execution_count": 8,
   "id": "bfde0b69-613c-4dd1-8ebf-e4d2e570e653",
   "metadata": {
    "tags": []
   },
   "outputs": [
    {
     "data": {
      "text/html": [
       "<div>\n",
       "<style scoped>\n",
       "    .dataframe tbody tr th:only-of-type {\n",
       "        vertical-align: middle;\n",
       "    }\n",
       "\n",
       "    .dataframe tbody tr th {\n",
       "        vertical-align: top;\n",
       "    }\n",
       "\n",
       "    .dataframe thead th {\n",
       "        text-align: right;\n",
       "    }\n",
       "</style>\n",
       "<table border=\"1\" class=\"dataframe\">\n",
       "  <thead>\n",
       "    <tr style=\"text-align: right;\">\n",
       "      <th></th>\n",
       "      <th>Ranking</th>\n",
       "      <th>University Name</th>\n",
       "      <th>National/Regional Rank</th>\n",
       "      <th>Total Score</th>\n",
       "      <th>LOGO</th>\n",
       "      <th>University Detail</th>\n",
       "    </tr>\n",
       "  </thead>\n",
       "  <tbody>\n",
       "    <tr>\n",
       "      <th>0</th>\n",
       "      <td>1</td>\n",
       "      <td>Harvard University</td>\n",
       "      <td>1</td>\n",
       "      <td>100.0</td>\n",
       "      <td>http://www.shanghairanking.com/_uni/logo/032bd...</td>\n",
       "      <td>http://www.shanghairanking.com/institution/har...</td>\n",
       "    </tr>\n",
       "    <tr>\n",
       "      <th>1</th>\n",
       "      <td>2</td>\n",
       "      <td>Stanford University</td>\n",
       "      <td>2</td>\n",
       "      <td>76.8</td>\n",
       "      <td>http://www.shanghairanking.com/_uni/logo/13de8...</td>\n",
       "      <td>http://www.shanghairanking.com/institution/sta...</td>\n",
       "    </tr>\n",
       "    <tr>\n",
       "      <th>2</th>\n",
       "      <td>3</td>\n",
       "      <td>Massachusetts Institute of Technology (MIT)</td>\n",
       "      <td>3</td>\n",
       "      <td>70.1</td>\n",
       "      <td>http://www.shanghairanking.com/_uni/logo/79165...</td>\n",
       "      <td>http://www.shanghairanking.com/institution/mas...</td>\n",
       "    </tr>\n",
       "    <tr>\n",
       "      <th>3</th>\n",
       "      <td>4</td>\n",
       "      <td>University of Cambridge</td>\n",
       "      <td>1</td>\n",
       "      <td>69.6</td>\n",
       "      <td>http://www.shanghairanking.com/_uni/logo/8d986...</td>\n",
       "      <td>http://www.shanghairanking.com/institution/uni...</td>\n",
       "    </tr>\n",
       "    <tr>\n",
       "      <th>4</th>\n",
       "      <td>5</td>\n",
       "      <td>University of California, Berkeley</td>\n",
       "      <td>4</td>\n",
       "      <td>65.3</td>\n",
       "      <td>http://www.shanghairanking.com/_uni/logo/0ff17...</td>\n",
       "      <td>http://www.shanghairanking.com/institution/uni...</td>\n",
       "    </tr>\n",
       "  </tbody>\n",
       "</table>\n",
       "</div>"
      ],
      "text/plain": [
       "  Ranking                              University Name National/Regional Rank  \\\n",
       "0       1                           Harvard University                      1   \n",
       "1       2                          Stanford University                      2   \n",
       "2       3  Massachusetts Institute of Technology (MIT)                      3   \n",
       "3       4                      University of Cambridge                      1   \n",
       "4       5           University of California, Berkeley                      4   \n",
       "\n",
       "   Total Score                                               LOGO  \\\n",
       "0        100.0  http://www.shanghairanking.com/_uni/logo/032bd...   \n",
       "1         76.8  http://www.shanghairanking.com/_uni/logo/13de8...   \n",
       "2         70.1  http://www.shanghairanking.com/_uni/logo/79165...   \n",
       "3         69.6  http://www.shanghairanking.com/_uni/logo/8d986...   \n",
       "4         65.3  http://www.shanghairanking.com/_uni/logo/0ff17...   \n",
       "\n",
       "                                  University Detail   \n",
       "0  http://www.shanghairanking.com/institution/har...  \n",
       "1  http://www.shanghairanking.com/institution/sta...  \n",
       "2  http://www.shanghairanking.com/institution/mas...  \n",
       "3  http://www.shanghairanking.com/institution/uni...  \n",
       "4  http://www.shanghairanking.com/institution/uni...  "
      ]
     },
     "execution_count": 8,
     "metadata": {},
     "output_type": "execute_result"
    }
   ],
   "source": [
    "df.head()"
   ]
  },
  {
   "cell_type": "markdown",
   "id": "bd2b5bc4-db37-4432-b666-0714afd0c4ca",
   "metadata": {},
   "source": [
    "## 1. Data Profiling:\n",
    "Data profiling is a comprehensive process of examining the data available in an existing dataset and collecting statistics and information about that data. "
   ]
  },
  {
   "cell_type": "code",
   "execution_count": 11,
   "id": "672f2081-5a2c-4908-8cbd-29519fb3cac5",
   "metadata": {
    "tags": []
   },
   "outputs": [
    {
     "name": "stdout",
     "output_type": "stream",
     "text": [
      "<class 'pandas.core.frame.DataFrame'>\n",
      "RangeIndex: 1000 entries, 0 to 999\n",
      "Data columns (total 6 columns):\n",
      " #   Column                  Non-Null Count  Dtype  \n",
      "---  ------                  --------------  -----  \n",
      " 0   Ranking                 1000 non-null   object \n",
      " 1   University Name         1000 non-null   object \n",
      " 2   National/Regional Rank  1000 non-null   object \n",
      " 3   Total Score             1000 non-null   float64\n",
      " 4   LOGO                    1000 non-null   object \n",
      " 5   University Detail       1000 non-null   object \n",
      "dtypes: float64(1), object(5)\n",
      "memory usage: 47.0+ KB\n"
     ]
    }
   ],
   "source": [
    "df.info()"
   ]
  },
  {
   "cell_type": "code",
   "execution_count": 13,
   "id": "e01df251",
   "metadata": {
    "tags": []
   },
   "outputs": [
    {
     "data": {
      "text/plain": [
       "(1000, 6)"
      ]
     },
     "execution_count": 13,
     "metadata": {},
     "output_type": "execute_result"
    }
   ],
   "source": [
    "df.shape"
   ]
  },
  {
   "cell_type": "code",
   "execution_count": 15,
   "id": "32c1ee70",
   "metadata": {
    "tags": []
   },
   "outputs": [
    {
     "data": {
      "text/plain": [
       "<bound method NDFrame.describe of       Ranking                                University Name  \\\n",
       "0           1                             Harvard University   \n",
       "1           2                            Stanford University   \n",
       "2           3    Massachusetts Institute of Technology (MIT)   \n",
       "3           4                        University of Cambridge   \n",
       "4           5             University of California, Berkeley   \n",
       "..        ...                                            ...   \n",
       "995  901-1000                        University of Wuppertal   \n",
       "996  901-1000                Warsaw University of Technology   \n",
       "997  901-1000  Western Norway University of Applied Sciences   \n",
       "998  901-1000   Wroclaw University of Science and Technology   \n",
       "999  901-1000                              Yantai University   \n",
       "\n",
       "    National/Regional Rank  Total Score  \\\n",
       "0                        1        100.0   \n",
       "1                        2         76.8   \n",
       "2                        3         70.1   \n",
       "3                        1         69.6   \n",
       "4                        4         65.3   \n",
       "..                     ...          ...   \n",
       "995                  46-47          0.0   \n",
       "996                   7-11          0.0   \n",
       "997                    6-7          0.0   \n",
       "998                   7-11          0.0   \n",
       "999                148-163          0.0   \n",
       "\n",
       "                                                  LOGO  \\\n",
       "0    http://www.shanghairanking.com/_uni/logo/032bd...   \n",
       "1    http://www.shanghairanking.com/_uni/logo/13de8...   \n",
       "2    http://www.shanghairanking.com/_uni/logo/79165...   \n",
       "3    http://www.shanghairanking.com/_uni/logo/8d986...   \n",
       "4    http://www.shanghairanking.com/_uni/logo/0ff17...   \n",
       "..                                                 ...   \n",
       "995  http://www.shanghairanking.com/_uni/logo/2ab2f...   \n",
       "996  http://www.shanghairanking.com/_uni/logo/a347c...   \n",
       "997  http://www.shanghairanking.com/_uni/logo-jpg/d...   \n",
       "998  http://www.shanghairanking.com/_uni/logo/ed480...   \n",
       "999  http://www.shanghairanking.com/_uni/logo/78347...   \n",
       "\n",
       "                                    University Detail   \n",
       "0    http://www.shanghairanking.com/institution/har...  \n",
       "1    http://www.shanghairanking.com/institution/sta...  \n",
       "2    http://www.shanghairanking.com/institution/mas...  \n",
       "3    http://www.shanghairanking.com/institution/uni...  \n",
       "4    http://www.shanghairanking.com/institution/uni...  \n",
       "..                                                 ...  \n",
       "995  http://www.shanghairanking.com/institution/uni...  \n",
       "996  http://www.shanghairanking.com/institution/war...  \n",
       "997  http://www.shanghairanking.com/institution/wes...  \n",
       "998  http://www.shanghairanking.com/institution/wro...  \n",
       "999  http://www.shanghairanking.com/institution/yan...  \n",
       "\n",
       "[1000 rows x 6 columns]>"
      ]
     },
     "execution_count": 15,
     "metadata": {},
     "output_type": "execute_result"
    }
   ],
   "source": [
    "df.describe"
   ]
  },
  {
   "cell_type": "code",
   "execution_count": 80,
   "id": "85349af8-3191-415c-8b47-bf8dd5bb579d",
   "metadata": {
    "tags": []
   },
   "outputs": [
    {
     "data": {
      "text/plain": [
       "Index(['Ranking', 'University Name', 'National/Regional Rank', 'Total Score',\n",
       "       'LOGO', 'University Detail '],\n",
       "      dtype='object')"
      ]
     },
     "execution_count": 80,
     "metadata": {},
     "output_type": "execute_result"
    }
   ],
   "source": [
    "df.columns"
   ]
  },
  {
   "cell_type": "markdown",
   "id": "834929aa-fd6a-4ec5-84d4-77c4b3c1a506",
   "metadata": {},
   "source": [
    "The process of profiling differs slightly for categorical and numerical variables due to their inherent differences.\n",
    "\n",
    "**The two main types of data are:**\n",
    "- Quantitative (numerical) data\n",
    "- Qualitative (categorical) data"
   ]
  },
  {
   "cell_type": "markdown",
   "id": "3a9954f5-6fbc-45b4-ad86-3e21b6e0ca2d",
   "metadata": {},
   "source": [
    "### Data Quality Checks\n",
    "Data quality checks involve the process of ensuring that the data is accurate, complete, consistent, relevant, and reliable. \n",
    "\n",
    "\n",
    "**Here are typical steps involved in checking data quality:**"
   ]
  },
  {
   "cell_type": "markdown",
   "id": "4818c876-173d-4e56-9e7d-b4334d2def25",
   "metadata": {},
   "source": [
    "#### 1. Reliability:\n",
    "Evaluate the data's source and collection process to determine its trustworthiness."
   ]
  },
  {
   "cell_type": "code",
   "execution_count": 58,
   "id": "9034ae7b-dc1d-4cba-8f9e-bb499d021cde",
   "metadata": {},
   "outputs": [],
   "source": [
    "#The data is reliable as it originates from Shanghai, the official publisher of the Academic Ranking of World Universities since 2009.\n"
   ]
  },
  {
   "cell_type": "markdown",
   "id": "2ce0cc59-8c92-4acc-8d07-c40764e1a86b",
   "metadata": {},
   "source": [
    "#### 2. Timeliness: \n",
    "Ensure the data is up-to-date and reflective of the current situation or the period of interest for the analysis."
   ]
  },
  {
   "cell_type": "code",
   "execution_count": null,
   "id": "4b78ae35-7226-4cb6-b8b2-a46c2ed17cf9",
   "metadata": {},
   "outputs": [],
   "source": [
    "#The data is 2022 and other data is 2023 which means this data is not up to date"
   ]
  },
  {
   "cell_type": "markdown",
   "id": "7fab0fe2-6624-4615-b9d8-3c3669056bf8",
   "metadata": {},
   "source": [
    "#### 3. Consistency: \n",
    "\n",
    "Confirm that the data is consistent within the dataset and across multiple data sources. For example, the same data point should not have different values in different places.\n"
   ]
  },
  {
   "cell_type": "code",
   "execution_count": 59,
   "id": "7fecc573-959f-4800-8ddd-a67985c68b18",
   "metadata": {},
   "outputs": [],
   "source": [
    "#The uivesity name consist between all datasets "
   ]
  },
  {
   "cell_type": "markdown",
   "id": "bec3d183-bba0-4b12-b963-487daab1e876",
   "metadata": {},
   "source": [
    "#### 4. Relevance: \n",
    "Assess whether the data is appropriate and applicable for the intended analysis. Data that is not relevant can skew results and lead to incorrect conclusions.\n",
    "\n",
    "**Key considerations for relevance include:**\n",
    "\n",
    "> 1. Sample Appropriateness: Confirm that your data sample aligns with your analysis objectives. For instance, utilizing data from the Northern region will not yield accurate insights for the Western region of the Kingdom.\n",
    ">\n",
    "> 2. Variable Selection: Any column will not be relevant for our analysis, we can get rid of these using the drop() method. We will set the “axis” argument to 1 since we’re dealing with columns, and set the “inplace” argument to True to make the change permanent.\n"
   ]
  },
  {
   "cell_type": "code",
   "execution_count": null,
   "id": "11d760d6-9cc5-4ff0-9dba-b0dbb679ba52",
   "metadata": {},
   "outputs": [],
   "source": [
    "#Since the data is outdated and other have updated ranking this data could lead to incorrect coclusions"
   ]
  },
  {
   "cell_type": "code",
   "execution_count": null,
   "id": "3e645c6c-0531-4032-953b-b06bf06bacf9",
   "metadata": {
    "tags": []
   },
   "outputs": [],
   "source": []
  },
  {
   "cell_type": "code",
   "execution_count": 13,
   "id": "9132eb8d",
   "metadata": {},
   "outputs": [
    {
     "data": {
      "text/plain": [
       "National/Regional Rank\n",
       "1                         59\n",
       "2                         35\n",
       "3                         27\n",
       "63-85                     23\n",
       "72-93                     22\n",
       "                          ..\n",
       "37                         1\n",
       "38                         1\n",
       "20                         1\n",
       "39                         1\n",
       "29                         1\n",
       "Name: count, Length: 136, dtype: int64"
      ]
     },
     "execution_count": 13,
     "metadata": {},
     "output_type": "execute_result"
    }
   ],
   "source": [
    "df[[\"National/Regional Rank\"]].value_counts()"
   ]
  },
  {
   "cell_type": "code",
   "execution_count": 14,
   "id": "bdc08595",
   "metadata": {},
   "outputs": [
    {
     "data": {
      "text/plain": [
       "array([100. ,  76.8,  70.1,  69.6,  65.3,  60. ,  58.7,  57.2,  56.1,\n",
       "        55.1,  53.2,  50.4,  50.2,  47.9,  47.5,  47. ,  46.8,  46.6,\n",
       "        45.9,  45.6,  45.5,  40.5,  40.3,  39.8,  39.5,  39.3,  39.1,\n",
       "        39. ,  38. ,  37.3,  37.2,  36.6,  36.1,  35.9,  35.4,  34.7,\n",
       "        34.6,  34.5,  34.4,  34.3,  34.2,  33.9,  33.8,  33.6,  33.4,\n",
       "        33.3,  33.1,  33. ,  32.9,  32.6,  32. ,  31.7,  31.5,  31.4,\n",
       "        30.8,  30.7,  30.3,  30.2,  30.1,  30. ,  29.7,  29.5,  29.3,\n",
       "        29.1,  28.9,  28.4,  28.1,  27.9,  27.7,  27.5,  27.4,  27.3,\n",
       "        27.2,  27. ,  26.9,  26.8,  26.7,  26.5,  26.4,  26.3,  26.1,\n",
       "        25.9,  25.8,  11.9,   0. ,  10.7,   9.2,  15.1,  22.6,  38.9,\n",
       "        16. ,   7.5,  13.1,  16.9,  18.5,  14.1,  21.4,  19.2,  32.5,\n",
       "         5.3,  17.7,  20. ,  31.6,  20.7,  23.9,  25. ])"
      ]
     },
     "execution_count": 14,
     "metadata": {},
     "output_type": "execute_result"
    }
   ],
   "source": [
    "df[\"Total Score\"].unique()"
   ]
  },
  {
   "cell_type": "code",
   "execution_count": 15,
   "id": "9e17d7c6",
   "metadata": {},
   "outputs": [
    {
     "data": {
      "text/plain": [
       "array(['1', '2', '3', '4', '5', '6', '7', '8', '9', '10', '11', '12',\n",
       "       '13', '14', '15', '16', '17', '18', '19', '20', '21', '22', '23',\n",
       "       '24', '25-26', '27', '28', '29', '30', '31', '32', '33', '34',\n",
       "       '35', '36', '37', '2-3', '38', '39', '5-7', '40-54', '9-13', '1-2',\n",
       "       '4-6', '9-16', '55-62', '14-26', '17-21', '3-4', '7-9', '6-9',\n",
       "       '7-8', '2-4', '2-5', '27-40', '4-5', '9-12', '63-85', '9-18',\n",
       "       '2-7', '10-19', '22-25', '5-8', '86-106', '6-8', '41-58', '9-11',\n",
       "       '13-17', '26-33', '13-16', '20-25', '19-22', '9-10', '6-7',\n",
       "       '59-71', '107-127', '3-6', '23-24', '26-31', '11-13', '12-17',\n",
       "       '5-6', '3-5', '34-38', '18-19', '128-146', '25-27', '72-93',\n",
       "       '18-26', '20-22', '12-15', '32-37', '39-41', '8-9', '17-19',\n",
       "       '94-114', '42-49', '147-157', '14-19', '28-29', '16-17', '7-10',\n",
       "       '27-32', '16-21', '38-39', '115-132', '40-43', '18-22', '158-174',\n",
       "       '4-7', '50-53', '22-30', '33-34', '133-147', '23-28', '54-60',\n",
       "       '30-33', '14-17', '175-182', '35-40', '10-12', '31-34', '23-27',\n",
       "       '11-14', '44-45', '7-11', '9-14', '183-196', '41-46', '148-163',\n",
       "       '29-30', '6-11', '18-21', '28-32', '46-47', '61-63'], dtype=object)"
      ]
     },
     "execution_count": 15,
     "metadata": {},
     "output_type": "execute_result"
    }
   ],
   "source": [
    "df[\"National/Regional Rank\"].unique()"
   ]
  },
  {
   "cell_type": "markdown",
   "id": "0f5e3a2a-bbb7-4d06-8220-c93277b70146",
   "metadata": {},
   "source": [
    "#### 5. Uniqueness: \n",
    "Check for and remove duplicate records to prevent skewed analysis results.\n"
   ]
  },
  {
   "cell_type": "code",
   "execution_count": 34,
   "id": "a509a7aa-58f4-4d39-8eb8-e8298a21f2a7",
   "metadata": {
    "tags": []
   },
   "outputs": [
    {
     "data": {
      "text/plain": [
       "0"
      ]
     },
     "execution_count": 34,
     "metadata": {},
     "output_type": "execute_result"
    }
   ],
   "source": [
    "df.duplicated().sum() \n",
    "# No Null values"
   ]
  },
  {
   "cell_type": "code",
   "execution_count": 174,
   "id": "3844c70f-d0af-4762-8bc2-91d704b3243f",
   "metadata": {
    "tags": []
   },
   "outputs": [
    {
     "data": {
      "text/plain": [
       "864"
      ]
     },
     "execution_count": 174,
     "metadata": {},
     "output_type": "execute_result"
    }
   ],
   "source": [
    "df['National/Regional Rank'].duplicated().sum()\n",
    "#Since this is catagorical ranking based on the reigon duplicate are expercted and should be ignored "
   ]
  },
  {
   "cell_type": "code",
   "execution_count": 36,
   "id": "ac6cefe5-94b3-43df-9c22-0fb3361b87f5",
   "metadata": {
    "tags": []
   },
   "outputs": [
    {
     "data": {
      "text/html": [
       "<div>\n",
       "<style scoped>\n",
       "    .dataframe tbody tr th:only-of-type {\n",
       "        vertical-align: middle;\n",
       "    }\n",
       "\n",
       "    .dataframe tbody tr th {\n",
       "        vertical-align: top;\n",
       "    }\n",
       "\n",
       "    .dataframe thead th {\n",
       "        text-align: right;\n",
       "    }\n",
       "</style>\n",
       "<table border=\"1\" class=\"dataframe\">\n",
       "  <thead>\n",
       "    <tr style=\"text-align: right;\">\n",
       "      <th></th>\n",
       "      <th>Ranking</th>\n",
       "      <th>University Name</th>\n",
       "      <th>National/Regional Rank</th>\n",
       "      <th>Total Score</th>\n",
       "      <th>LOGO</th>\n",
       "      <th>University Detail</th>\n",
       "    </tr>\n",
       "  </thead>\n",
       "  <tbody>\n",
       "  </tbody>\n",
       "</table>\n",
       "</div>"
      ],
      "text/plain": [
       "Empty DataFrame\n",
       "Columns: [Ranking, University Name, National/Regional Rank, Total Score, LOGO, University Detail ]\n",
       "Index: []"
      ]
     },
     "execution_count": 36,
     "metadata": {},
     "output_type": "execute_result"
    }
   ],
   "source": [
    "df[df.duplicated()]"
   ]
  },
  {
   "cell_type": "markdown",
   "id": "c7724ac2-4ea2-4cf4-a9e0-e64368f87b92",
   "metadata": {},
   "source": [
    "#### 6. Completeness: \n",
    "Ensure that no critical data is missing. This might mean checking for null values or required fields that are empty.\n",
    "\n",
    "We will start by checking the dataset for missing or null values. For this, we can use the isna() method which returns a dataframe of boolean values indicating if a field is null or not. To group all missing values by column, we can include the sum() method."
   ]
  },
  {
   "cell_type": "code",
   "execution_count": 38,
   "id": "48a4de54-a344-4b94-9908-9528c15c13f7",
   "metadata": {
    "tags": []
   },
   "outputs": [
    {
     "data": {
      "text/plain": [
       "Ranking                   0\n",
       "University Name           0\n",
       "National/Regional Rank    0\n",
       "Total Score               0\n",
       "LOGO                      0\n",
       "University Detail         0\n",
       "dtype: int64"
      ]
     },
     "execution_count": 38,
     "metadata": {},
     "output_type": "execute_result"
    }
   ],
   "source": [
    "#Display number missing values per column\n",
    "df.isnull().sum().sort_values(ascending = False)\n",
    "# No Null values"
   ]
  },
  {
   "cell_type": "code",
   "execution_count": 68,
   "id": "abec31c4-0904-4b73-8cee-b7bc14ab1e67",
   "metadata": {},
   "outputs": [],
   "source": [
    "# go to clean them "
   ]
  },
  {
   "cell_type": "markdown",
   "id": "b40de63c-5a1d-49ed-a87e-c5229ee08bbe",
   "metadata": {},
   "source": [
    "#### 7. Check Accuracy:\n",
    "\n",
    "Verify that the data is correct and precise. This could involve comparing data samples with known sources or using validation rules.\n",
    "\n",
    "**The process includes:**\n",
    "1. Validating the appropriateness of data types for the dataset.\n",
    "2. Identifying outliers  using established validation  rule"
   ]
  },
  {
   "cell_type": "code",
   "execution_count": 40,
   "id": "68be5334-ae10-4abd-8097-3259fe5e72c8",
   "metadata": {
    "tags": []
   },
   "outputs": [
    {
     "data": {
      "text/plain": [
       "Ranking                    object\n",
       "University Name            object\n",
       "National/Regional Rank     object\n",
       "Total Score               float64\n",
       "LOGO                       object\n",
       "University Detail          object\n",
       "dtype: object"
      ]
     },
     "execution_count": 40,
     "metadata": {},
     "output_type": "execute_result"
    }
   ],
   "source": [
    "# check columns types \n",
    "df.dtypes"
   ]
  },
  {
   "cell_type": "code",
   "execution_count": 33,
   "id": "2ee790ba-dcc0-45f1-b6f8-0133e913e149",
   "metadata": {},
   "outputs": [],
   "source": [
    "# go to clean them "
   ]
  },
  {
   "cell_type": "code",
   "execution_count": 150,
   "id": "c69b303a-5459-45f9-a28e-fcee45c21c05",
   "metadata": {
    "tags": []
   },
   "outputs": [
    {
     "data": {
      "text/plain": [
       "<Axes: >"
      ]
     },
     "execution_count": 150,
     "metadata": {},
     "output_type": "execute_result"
    },
    {
     "data": {
      "image/png": "[encoded data removed]",
      "text/plain": [
       "<Figure size 640x480 with 1 Axes>"
      ]
     },
     "metadata": {},
     "output_type": "display_data"
    }
   ],
   "source": [
    "# check outliers \n",
    "sns.boxplot(data=df)\n"
   ]
  },
  {
   "cell_type": "code",
   "execution_count": null,
   "id": "33fb5a2d-c936-4a86-8440-680ae42da1ae",
   "metadata": {},
   "outputs": [],
   "source": [
    "#Since there is many duplicated from 0 to 10 is considerd any score greater than 20 as outlier "
   ]
  },
  {
   "cell_type": "code",
   "execution_count": 160,
   "id": "87fe9049-b57d-4f81-84db-7674e70732ba",
   "metadata": {
    "tags": []
   },
   "outputs": [
    {
     "data": {
      "text/html": [
       "<div>\n",
       "<style scoped>\n",
       "    .dataframe tbody tr th:only-of-type {\n",
       "        vertical-align: middle;\n",
       "    }\n",
       "\n",
       "    .dataframe tbody tr th {\n",
       "        vertical-align: top;\n",
       "    }\n",
       "\n",
       "    .dataframe thead th {\n",
       "        text-align: right;\n",
       "    }\n",
       "</style>\n",
       "<table border=\"1\" class=\"dataframe\">\n",
       "  <thead>\n",
       "    <tr style=\"text-align: right;\">\n",
       "      <th></th>\n",
       "      <th>Ranking</th>\n",
       "      <th>University Name</th>\n",
       "      <th>National/Regional Rank</th>\n",
       "      <th>Total Score</th>\n",
       "      <th>LOGO</th>\n",
       "      <th>University Detail</th>\n",
       "    </tr>\n",
       "  </thead>\n",
       "  <tbody>\n",
       "    <tr>\n",
       "      <th>41</th>\n",
       "      <td>41</td>\n",
       "      <td>Kyoto University</td>\n",
       "      <td>2</td>\n",
       "      <td>34.2</td>\n",
       "      <td>http://www.shanghairanking.com/_uni/logo/ac21f...</td>\n",
       "      <td>http://www.shanghairanking.com/institution/kyo...</td>\n",
       "    </tr>\n",
       "    <tr>\n",
       "      <th>44</th>\n",
       "      <td>44</td>\n",
       "      <td>University of British Columbia</td>\n",
       "      <td>2</td>\n",
       "      <td>33.8</td>\n",
       "      <td>http://www.shanghairanking.com/_uni/logo/38ff7...</td>\n",
       "      <td>http://www.shanghairanking.com/institution/uni...</td>\n",
       "    </tr>\n",
       "    <tr>\n",
       "      <th>45</th>\n",
       "      <td>44</td>\n",
       "      <td>University of Minnesota, Twin Cities</td>\n",
       "      <td>25-26</td>\n",
       "      <td>33.8</td>\n",
       "      <td>http://www.shanghairanking.com/_uni/logo/7f9e6...</td>\n",
       "      <td>http://www.shanghairanking.com/institution/uni...</td>\n",
       "    </tr>\n",
       "    <tr>\n",
       "      <th>54</th>\n",
       "      <td>54</td>\n",
       "      <td>Utrecht University</td>\n",
       "      <td>1</td>\n",
       "      <td>32.0</td>\n",
       "      <td>http://www.shanghairanking.com/_uni/logo/50630...</td>\n",
       "      <td>http://www.shanghairanking.com/institution/utr...</td>\n",
       "    </tr>\n",
       "    <tr>\n",
       "      <th>57</th>\n",
       "      <td>57</td>\n",
       "      <td>University of Munich</td>\n",
       "      <td>2</td>\n",
       "      <td>31.5</td>\n",
       "      <td>http://www.shanghairanking.com/_uni/logo/6d76d...</td>\n",
       "      <td>http://www.shanghairanking.com/institution/uni...</td>\n",
       "    </tr>\n",
       "    <tr>\n",
       "      <th>...</th>\n",
       "      <td>...</td>\n",
       "      <td>...</td>\n",
       "      <td>...</td>\n",
       "      <td>...</td>\n",
       "      <td>...</td>\n",
       "      <td>...</td>\n",
       "    </tr>\n",
       "    <tr>\n",
       "      <th>946</th>\n",
       "      <td>901-1000</td>\n",
       "      <td>NHH - Norwegian School of Economics</td>\n",
       "      <td>6-7</td>\n",
       "      <td>11.9</td>\n",
       "      <td>http://www.shanghairanking.com/_uni/logo/2a426...</td>\n",
       "      <td>http://www.shanghairanking.com/institution/nhh...</td>\n",
       "    </tr>\n",
       "    <tr>\n",
       "      <th>955</th>\n",
       "      <td>901-1000</td>\n",
       "      <td>Saitama University</td>\n",
       "      <td>28-32</td>\n",
       "      <td>14.1</td>\n",
       "      <td>http://www.shanghairanking.com/_uni/logo-jpg/4...</td>\n",
       "      <td>http://www.shanghairanking.com/institution/sai...</td>\n",
       "    </tr>\n",
       "    <tr>\n",
       "      <th>957</th>\n",
       "      <td>901-1000</td>\n",
       "      <td>South Dakota State University</td>\n",
       "      <td>183-196</td>\n",
       "      <td>5.3</td>\n",
       "      <td>http://www.shanghairanking.com/_uni/logo/a6724...</td>\n",
       "      <td>http://www.shanghairanking.com/institution/sou...</td>\n",
       "    </tr>\n",
       "    <tr>\n",
       "      <th>973</th>\n",
       "      <td>901-1000</td>\n",
       "      <td>University of Calcutta</td>\n",
       "      <td>9-14</td>\n",
       "      <td>17.7</td>\n",
       "      <td>http://www.shanghairanking.com/_uni/logo/13d0a...</td>\n",
       "      <td>http://www.shanghairanking.com/institution/uni...</td>\n",
       "    </tr>\n",
       "    <tr>\n",
       "      <th>987</th>\n",
       "      <td>901-1000</td>\n",
       "      <td>University of South Africa</td>\n",
       "      <td>8-9</td>\n",
       "      <td>14.1</td>\n",
       "      <td>http://www.shanghairanking.com/_uni/logo/1f223...</td>\n",
       "      <td>http://www.shanghairanking.com/institution/uni...</td>\n",
       "    </tr>\n",
       "  </tbody>\n",
       "</table>\n",
       "<p>155 rows × 6 columns</p>\n",
       "</div>"
      ],
      "text/plain": [
       "      Ranking                       University Name National/Regional Rank  \\\n",
       "41         41                      Kyoto University                      2   \n",
       "44         44        University of British Columbia                      2   \n",
       "45         44  University of Minnesota, Twin Cities                  25-26   \n",
       "54         54                    Utrecht University                      1   \n",
       "57         57                  University of Munich                      2   \n",
       "..        ...                                   ...                    ...   \n",
       "946  901-1000   NHH - Norwegian School of Economics                    6-7   \n",
       "955  901-1000                    Saitama University                  28-32   \n",
       "957  901-1000         South Dakota State University                183-196   \n",
       "973  901-1000                University of Calcutta                   9-14   \n",
       "987  901-1000            University of South Africa                    8-9   \n",
       "\n",
       "     Total Score                                               LOGO  \\\n",
       "41          34.2  http://www.shanghairanking.com/_uni/logo/ac21f...   \n",
       "44          33.8  http://www.shanghairanking.com/_uni/logo/38ff7...   \n",
       "45          33.8  http://www.shanghairanking.com/_uni/logo/7f9e6...   \n",
       "54          32.0  http://www.shanghairanking.com/_uni/logo/50630...   \n",
       "57          31.5  http://www.shanghairanking.com/_uni/logo/6d76d...   \n",
       "..           ...                                                ...   \n",
       "946         11.9  http://www.shanghairanking.com/_uni/logo/2a426...   \n",
       "955         14.1  http://www.shanghairanking.com/_uni/logo-jpg/4...   \n",
       "957          5.3  http://www.shanghairanking.com/_uni/logo/a6724...   \n",
       "973         17.7  http://www.shanghairanking.com/_uni/logo/13d0a...   \n",
       "987         14.1  http://www.shanghairanking.com/_uni/logo/1f223...   \n",
       "\n",
       "                                    University Detail   \n",
       "41   http://www.shanghairanking.com/institution/kyo...  \n",
       "44   http://www.shanghairanking.com/institution/uni...  \n",
       "45   http://www.shanghairanking.com/institution/uni...  \n",
       "54   http://www.shanghairanking.com/institution/utr...  \n",
       "57   http://www.shanghairanking.com/institution/uni...  \n",
       "..                                                 ...  \n",
       "946  http://www.shanghairanking.com/institution/nhh...  \n",
       "955  http://www.shanghairanking.com/institution/sai...  \n",
       "957  http://www.shanghairanking.com/institution/sou...  \n",
       "973  http://www.shanghairanking.com/institution/uni...  \n",
       "987  http://www.shanghairanking.com/institution/uni...  \n",
       "\n",
       "[155 rows x 6 columns]"
      ]
     },
     "execution_count": 160,
     "metadata": {},
     "output_type": "execute_result"
    }
   ],
   "source": [
    "df[df['Total Score'].duplicated() & df['Total Score'] > 0]\n"
   ]
  },
  {
   "cell_type": "code",
   "execution_count": 164,
   "id": "034e7514-4f95-4a52-9cc0-1c063fda66ca",
   "metadata": {
    "tags": []
   },
   "outputs": [],
   "source": [
    "removed_duplicated = df[~df['Total Score'].duplicated()]"
   ]
  },
  {
   "cell_type": "code",
   "execution_count": 166,
   "id": "6f164745-67d1-4f8f-a52c-c34b9373c799",
   "metadata": {
    "tags": []
   },
   "outputs": [
    {
     "data": {
      "text/plain": [
       "<Axes: >"
      ]
     },
     "execution_count": 166,
     "metadata": {},
     "output_type": "execute_result"
    },
    {
     "data": {
      "image/png": "[encoded data removed]",
      "text/plain": [
       "<Figure size 640x480 with 1 Axes>"
      ]
     },
     "metadata": {},
     "output_type": "display_data"
    }
   ],
   "source": [
    "sns.boxplot(data=removed_duplicated)\n",
    "#After removing duplicates, we observe that the majority of the data falls within the range of 25 to 40."
   ]
  },
  {
   "cell_type": "markdown",
   "id": "4aca9d42-add6-45db-92cf-1f6dae5f277b",
   "metadata": {},
   "source": [
    "**What is an Outlier?** \n",
    "Outlier is an row/observation that appears far away and diverges from an overall pattern in a sample.\n",
    "\n",
    "**What are the types of Outliers?**\n",
    "1. Univariate: These outliers can be found when we look at distribution of a single variable\n",
    "2. Multivariate: are outliers in an n-dimensional space. In order to find them, you have to look at distributions in multi-dimensions. example (hight=100, weight=100) for a person\n",
    "\n",
    "**What causes Outliers?**\n",
    "Whenever we come across outliers, the ideal way to tackle them is to find out the reason of having these outliers. The method to deal with them would then depend on the reason of their occurrence.\n",
    "\n",
    "Let’s understand various types of outliers:\n",
    "\n",
    "1. Data Entry Errors:- Human errors such as errors caused during data collection, recording, or entry can cause outliers in data.\n",
    "2. Measurement Error: It is the most common source of outliers. This is caused when the measurement instrument used turns out to be faulty.\n",
    "3. Data Processing Error: Whenever we perform data mining, we extract data from multiple sources. It is possible that some manipulation or extraction errors may lead to outliers in the dataset.\n",
    "4. Sampling error: For instance, we have to measure the height of athletes. By mistake, we include a few basketball players in the sample. This inclusion is likely to cause outliers in the dataset.\n",
    "5. Natural Outlier: When an outlier is not artificial (due to error), it is a natural outlier. For instance: In my last assignment with one of the renowned insurance company, I noticed that the performance of top 50 financial advisors was far higher than rest of the population. Surprisingly, it was not due to any error. Hence, whenever we perform any data mining activity with advisors, we used to treat this segment separately.\n",
    "\n",
    "\n",
    "**What is the impact of Outliers on a dataset?**\n",
    "\n",
    "\n",
    "![image.png](https://www.analyticsvidhya.com/wp-content/uploads/2015/02/Outlier_31.png)\n",
    "\n",
    "\n",
    "\n",
    "**How to detect Outliers?**\n",
    "\n",
    "1. Most commonly used method to detect outliers is visualization (Univariate Graphical Analysis).\n",
    "\n",
    "We use 3 common visualization methods:\n",
    ">- Box-plot: A box plot is a method for graphically depicting groups of numerical data through their quartiles. The box extends from the Q1 to Q3 quartile values of the data, with a line at the median (Q2). The whiskers extend from the edges of the box to show the range of the data. Outlier points are those past the end of the whiskers. Box plots show robust measures of location and spread as well as providing information about symmetry and outliers.\n",
    ">\n",
    ">  \n",
    ">![image.png](https://miro.medium.com/v2/resize:fit:698/format:webp/1*VK5iHA2AB28HSZwWwUbNYg.png)\n",
    ">\n",
    ">\n",
    ">- Histogram\n",
    ">- Scatter Plot: A scatter plot is a mathematical diagram using Cartesian coordinates to display values for two variables for a set of data. The data are displayed as a collection of points, each having the value of one variable determining the position on the horizontal axis and the value of the other variable determining the position on the vertical axis. The points that are far from the population can be termed as an outlier.\n",
    ">\n",
    ">  \n",
    ">![image.png](https://miro.medium.com/v2/resize:fit:4800/format:webp/1*Ov6aH-8yIwNoUxtMFwgx4g.png)\n",
    ">\n",
    ">\n",
    "\n",
    "2. Using statistical method (Univariate Non-Graphical analysis):\n",
    ">- Any value, which is beyond the range of -1.5 x IQR to 1.5 x IQR\n",
    " \n",
    "![image.png](https://www.whatissixsigma.net/wp-content/uploads/2015/07/Box-Plot-Diagram-to-identify-Outliers-figure-1.png)\n",
    "\n",
    ">- Use capping methods. Any value which out of range of 5th and 95th percentile can be considered as outlier\n",
    ">- Data points, three or more standard deviation away from mean are considered outlier: The Z-score is the signed number of standard deviations by which the value of an observation or data point is above the mean value of what is being observed or measured. While calculating the Z-score we re-scale and center the data and look for data points that are too far from zero. These data points which are way too far from zero will be treated as the outliers. In most of the cases, a threshold of 3 or -3 is used i.e if the Z-score value is greater than or less than 3 or -3 respectively, that data point will be identified as outliers.\n",
    "> - Outlier detection is merely a special case of the examination of data for influential data points and it also depends on the business understanding\n"
   ]
  },
  {
   "cell_type": "code",
   "execution_count": 23,
   "id": "74ea6194-cc01-45d8-be38-c4543eb1714e",
   "metadata": {},
   "outputs": [],
   "source": [
    "# go to univariate graphical analysis\n",
    "# go to lesson : data visualisation 1 - chart type section\n",
    "# then go to univariate graphical analysis\n",
    "# detect outliers using graphs varbaly"
   ]
  },
  {
   "cell_type": "code",
   "execution_count": 24,
   "id": "48ecf77b-480c-4f64-9485-95be805bc357",
   "metadata": {},
   "outputs": [],
   "source": [
    "# go to lesson: statistics 1 then statistics 3\n",
    "# then go to univariate Non graphical analysis\n",
    "# detect outliers using numerical statistics "
   ]
  },
  {
   "cell_type": "code",
   "execution_count": null,
   "id": "ee200da8-62b0-492d-b118-f4d665a1fb16",
   "metadata": {},
   "outputs": [],
   "source": []
  },
  {
   "cell_type": "code",
   "execution_count": 25,
   "id": "4e66d611-6958-4860-8522-9ada7fce40b0",
   "metadata": {},
   "outputs": [],
   "source": [
    "# go to delete ouliers"
   ]
  },
  {
   "cell_type": "markdown",
   "id": "4e886ec7-388c-414b-ada7-803c2fb1f2cb",
   "metadata": {},
   "source": [
    "## 2. Data Cleaning: \n",
    "\n",
    "Preliminary findings from data profiling can lead to cleaning the data by:\n",
    "- Handling missing values\n",
    "- Correcting errors.\n",
    "- Dealing with outliers.\n",
    "\n",
    "-------------------\n",
    "\n"
   ]
  },
  {
   "cell_type": "markdown",
   "id": "21876b48-f5ec-4970-85a9-0520d45d8841",
   "metadata": {},
   "source": [
    "### Handling missing values:"
   ]
  },
  {
   "cell_type": "markdown",
   "id": "c890d5a2-2a65-4090-9427-f89c0f011d3f",
   "metadata": {},
   "source": [
    "**Why my data has missing values?**\n",
    "They may occur at two stages:\n",
    "1. Data Extraction: It is possible that there are problems with extraction process. Errors at data extraction stage are typically easy to find and can be corrected easily as well.\n",
    "2. Data collection: These errors occur at time of data collection and are harder to correct.\n",
    "\n",
    "**Why do we need to handle the missing data?**\n",
    "To avoid:\n",
    "- Bias the conclusions.\n",
    "- Leading the business to make wrong decisions.\n",
    "\n",
    "**Which are the methods to treat missing values ?**\n",
    "1. Deletion: we delete rows where any of the variable is missing. Simplicity is one of the major advantage of this method, but this method reduces the power of model because it reduces the sample size.\n",
    "\n",
    "2. Imputation: is a method to fill in the missing values with estimated ones. This imputation is one of the most frequently used methods.\n",
    "\n",
    "    2.1. Mean/ Mode/ Median Imputation: It consists of replacing the missing data for a given attribute by the mean or median (quantitative attribute) or mode (qualitative attribute) of all known values of that variable.\n",
    "    > It can be of two types:\n",
    "    > - Generalized Imputation: In this case, we calculate the mean or median for all non missing values of that variable then replace missing value with mean or median.\n",
    "    > - Similar case Imputation: In this case, we calculate average for each group individually of non missing values then replace the missing value based on the group.\n",
    "\n",
    "    2.2. Constant Value\n",
    "   \n",
    "    2.3. Forward Filling\n",
    "   \n",
    "    2.4. Backward Filling\n",
    "\n",
    "6. Prediction Model:  Prediction model is one of the sophisticated method for handling missing data. Here, we create a predictive model to estimate values that will substitute the missing data.  In this case, we divide our data set into two sets: One set with no missing values for the variable and another one with missing values. First data set become training data set of the model while second data set with missing values is test data set and variable with missing values is treated as target variable. Next, we create a model to predict target variable based on other attributes of the training data set and populate missing values of test data set.\n",
    "\n",
    "> There are 2 drawbacks for this approach:\n",
    "> - The model estimated values are usually more well-behaved than the true values\n",
    "> - If there are no relationships with attributes in the data set and the attribute with missing values, then the model will not be precise for estimating missing values.\n",
    "\n",
    "9. KNN Imputation: In this method of imputation, the missing values of an attribute are imputed using the given number of attributes that are most similar to the attribute whose values are missing. The similarity of two attributes is determined using a distance function. It is also known to have certain advantage & disadvantages.\n",
    "\n",
    "   > **Advantages:**\n",
    "   > - k-nearest neighbour can predict both qualitative & quantitative attributes\n",
    "   > - Creation of predictive model for each attribute with missing data is not required\n",
    "   > - Attributes with multiple missing values can be easily treated\n",
    "   > - Correlation structure of the data is taken into consideration\n",
    "\n",
    "   > **Disadvantage:**\n",
    "   > - KNN algorithm is very time-consuming in analyzing large database. It searches through all the dataset looking for the most similar instances.\n",
    "   > - Choice of k-value is very critical. Higher value of k would include attributes which are significantly different from what we need whereas lower value of k implies missing out of significant attributes.\n",
    "\n",
    "--------------------\n"
   ]
  },
  {
   "cell_type": "code",
   "execution_count": null,
   "id": "57e741fb-71c1-46ad-a526-d8f0b1564dc3",
   "metadata": {},
   "outputs": [],
   "source": []
  },
  {
   "cell_type": "code",
   "execution_count": 80,
   "id": "01287962-8077-4c01-8d1d-5f8aed6cb37a",
   "metadata": {},
   "outputs": [],
   "source": [
    "# go back to 6th dimention --> Completeness"
   ]
  },
  {
   "cell_type": "markdown",
   "id": "f7cee10f-0af8-44e5-b595-8e965294daad",
   "metadata": {},
   "source": [
    "### Correcting errors\n",
    "\n",
    "-------------------"
   ]
  },
  {
   "cell_type": "code",
   "execution_count": 52,
   "id": "06273b88-a169-42e8-81f5-5d71cb3f9c21",
   "metadata": {
    "tags": []
   },
   "outputs": [
    {
     "data": {
      "text/plain": [
       "Ranking\n",
       "901-1000    100\n",
       "501-600     100\n",
       "301-400     100\n",
       "401-500     100\n",
       "201-300     100\n",
       "601-700     100\n",
       "701-800     100\n",
       "801-900     100\n",
       "151-200      50\n",
       "101-150      50\n",
       "Name: count, dtype: int64"
      ]
     },
     "execution_count": 52,
     "metadata": {},
     "output_type": "execute_result"
    }
   ],
   "source": [
    "df['Ranking'].value_counts().head(10)"
   ]
  },
  {
   "cell_type": "code",
   "execution_count": 56,
   "id": "ee4cf23f-6f75-4dfe-95ee-0b5d47eee0c3",
   "metadata": {
    "tags": []
   },
   "outputs": [
    {
     "data": {
      "text/plain": [
       "Ranking\n",
       "901-1000    100\n",
       "501-600     100\n",
       "301-400     100\n",
       "401-500     100\n",
       "201-300     100\n",
       "601-700     100\n",
       "701-800     100\n",
       "801-900     100\n",
       "151-200      50\n",
       "101-150      50\n",
       "83            4\n",
       "44            3\n",
       "67            2\n",
       "64            2\n",
       "62            2\n",
       "79            2\n",
       "41            2\n",
       "57            2\n",
       "90            2\n",
       "92            2\n",
       "Name: count, dtype: int64"
      ]
     },
     "execution_count": 56,
     "metadata": {},
     "output_type": "execute_result"
    }
   ],
   "source": [
    "df['Ranking'].value_counts().head(20)"
   ]
  },
  {
   "cell_type": "code",
   "execution_count": 58,
   "id": "6e313de8-ce8d-41f9-bf9d-337f9bf70f15",
   "metadata": {
    "tags": []
   },
   "outputs": [],
   "source": [
    "#Some values are duplicated more invistigaing is needed"
   ]
  },
  {
   "cell_type": "code",
   "execution_count": 62,
   "id": "b0d95ad2-0cac-46ba-a1cf-b7767c7ecfe4",
   "metadata": {
    "tags": []
   },
   "outputs": [
    {
     "data": {
      "text/html": [
       "<div>\n",
       "<style scoped>\n",
       "    .dataframe tbody tr th:only-of-type {\n",
       "        vertical-align: middle;\n",
       "    }\n",
       "\n",
       "    .dataframe tbody tr th {\n",
       "        vertical-align: top;\n",
       "    }\n",
       "\n",
       "    .dataframe thead th {\n",
       "        text-align: right;\n",
       "    }\n",
       "</style>\n",
       "<table border=\"1\" class=\"dataframe\">\n",
       "  <thead>\n",
       "    <tr style=\"text-align: right;\">\n",
       "      <th></th>\n",
       "      <th>Ranking</th>\n",
       "      <th>University Name</th>\n",
       "      <th>National/Regional Rank</th>\n",
       "      <th>Total Score</th>\n",
       "      <th>LOGO</th>\n",
       "      <th>University Detail</th>\n",
       "    </tr>\n",
       "  </thead>\n",
       "  <tbody>\n",
       "    <tr>\n",
       "      <th>41</th>\n",
       "      <td>41</td>\n",
       "      <td>Kyoto University</td>\n",
       "      <td>2</td>\n",
       "      <td>34.2</td>\n",
       "      <td>http://www.shanghairanking.com/_uni/logo/ac21f...</td>\n",
       "      <td>http://www.shanghairanking.com/institution/kyo...</td>\n",
       "    </tr>\n",
       "    <tr>\n",
       "      <th>44</th>\n",
       "      <td>44</td>\n",
       "      <td>University of British Columbia</td>\n",
       "      <td>2</td>\n",
       "      <td>33.8</td>\n",
       "      <td>http://www.shanghairanking.com/_uni/logo/38ff7...</td>\n",
       "      <td>http://www.shanghairanking.com/institution/uni...</td>\n",
       "    </tr>\n",
       "    <tr>\n",
       "      <th>45</th>\n",
       "      <td>44</td>\n",
       "      <td>University of Minnesota, Twin Cities</td>\n",
       "      <td>25-26</td>\n",
       "      <td>33.8</td>\n",
       "      <td>http://www.shanghairanking.com/_uni/logo/7f9e6...</td>\n",
       "      <td>http://www.shanghairanking.com/institution/uni...</td>\n",
       "    </tr>\n",
       "    <tr>\n",
       "      <th>54</th>\n",
       "      <td>54</td>\n",
       "      <td>Utrecht University</td>\n",
       "      <td>1</td>\n",
       "      <td>32.0</td>\n",
       "      <td>http://www.shanghairanking.com/_uni/logo/50630...</td>\n",
       "      <td>http://www.shanghairanking.com/institution/utr...</td>\n",
       "    </tr>\n",
       "    <tr>\n",
       "      <th>57</th>\n",
       "      <td>57</td>\n",
       "      <td>University of Munich</td>\n",
       "      <td>2</td>\n",
       "      <td>31.5</td>\n",
       "      <td>http://www.shanghairanking.com/_uni/logo/6d76d...</td>\n",
       "      <td>http://www.shanghairanking.com/institution/uni...</td>\n",
       "    </tr>\n",
       "    <tr>\n",
       "      <th>...</th>\n",
       "      <td>...</td>\n",
       "      <td>...</td>\n",
       "      <td>...</td>\n",
       "      <td>...</td>\n",
       "      <td>...</td>\n",
       "      <td>...</td>\n",
       "    </tr>\n",
       "    <tr>\n",
       "      <th>995</th>\n",
       "      <td>901-1000</td>\n",
       "      <td>University of Wuppertal</td>\n",
       "      <td>46-47</td>\n",
       "      <td>0.0</td>\n",
       "      <td>http://www.shanghairanking.com/_uni/logo/2ab2f...</td>\n",
       "      <td>http://www.shanghairanking.com/institution/uni...</td>\n",
       "    </tr>\n",
       "    <tr>\n",
       "      <th>996</th>\n",
       "      <td>901-1000</td>\n",
       "      <td>Warsaw University of Technology</td>\n",
       "      <td>7-11</td>\n",
       "      <td>0.0</td>\n",
       "      <td>http://www.shanghairanking.com/_uni/logo/a347c...</td>\n",
       "      <td>http://www.shanghairanking.com/institution/war...</td>\n",
       "    </tr>\n",
       "    <tr>\n",
       "      <th>997</th>\n",
       "      <td>901-1000</td>\n",
       "      <td>Western Norway University of Applied Sciences</td>\n",
       "      <td>6-7</td>\n",
       "      <td>0.0</td>\n",
       "      <td>http://www.shanghairanking.com/_uni/logo-jpg/d...</td>\n",
       "      <td>http://www.shanghairanking.com/institution/wes...</td>\n",
       "    </tr>\n",
       "    <tr>\n",
       "      <th>998</th>\n",
       "      <td>901-1000</td>\n",
       "      <td>Wroclaw University of Science and Technology</td>\n",
       "      <td>7-11</td>\n",
       "      <td>0.0</td>\n",
       "      <td>http://www.shanghairanking.com/_uni/logo/ed480...</td>\n",
       "      <td>http://www.shanghairanking.com/institution/wro...</td>\n",
       "    </tr>\n",
       "    <tr>\n",
       "      <th>999</th>\n",
       "      <td>901-1000</td>\n",
       "      <td>Yantai University</td>\n",
       "      <td>148-163</td>\n",
       "      <td>0.0</td>\n",
       "      <td>http://www.shanghairanking.com/_uni/logo/78347...</td>\n",
       "      <td>http://www.shanghairanking.com/institution/yan...</td>\n",
       "    </tr>\n",
       "  </tbody>\n",
       "</table>\n",
       "<p>907 rows × 6 columns</p>\n",
       "</div>"
      ],
      "text/plain": [
       "      Ranking                                University Name  \\\n",
       "41         41                               Kyoto University   \n",
       "44         44                 University of British Columbia   \n",
       "45         44           University of Minnesota, Twin Cities   \n",
       "54         54                             Utrecht University   \n",
       "57         57                           University of Munich   \n",
       "..        ...                                            ...   \n",
       "995  901-1000                        University of Wuppertal   \n",
       "996  901-1000                Warsaw University of Technology   \n",
       "997  901-1000  Western Norway University of Applied Sciences   \n",
       "998  901-1000   Wroclaw University of Science and Technology   \n",
       "999  901-1000                              Yantai University   \n",
       "\n",
       "    National/Regional Rank  Total Score  \\\n",
       "41                       2         34.2   \n",
       "44                       2         33.8   \n",
       "45                   25-26         33.8   \n",
       "54                       1         32.0   \n",
       "57                       2         31.5   \n",
       "..                     ...          ...   \n",
       "995                  46-47          0.0   \n",
       "996                   7-11          0.0   \n",
       "997                    6-7          0.0   \n",
       "998                   7-11          0.0   \n",
       "999                148-163          0.0   \n",
       "\n",
       "                                                  LOGO  \\\n",
       "41   http://www.shanghairanking.com/_uni/logo/ac21f...   \n",
       "44   http://www.shanghairanking.com/_uni/logo/38ff7...   \n",
       "45   http://www.shanghairanking.com/_uni/logo/7f9e6...   \n",
       "54   http://www.shanghairanking.com/_uni/logo/50630...   \n",
       "57   http://www.shanghairanking.com/_uni/logo/6d76d...   \n",
       "..                                                 ...   \n",
       "995  http://www.shanghairanking.com/_uni/logo/2ab2f...   \n",
       "996  http://www.shanghairanking.com/_uni/logo/a347c...   \n",
       "997  http://www.shanghairanking.com/_uni/logo-jpg/d...   \n",
       "998  http://www.shanghairanking.com/_uni/logo/ed480...   \n",
       "999  http://www.shanghairanking.com/_uni/logo/78347...   \n",
       "\n",
       "                                    University Detail   \n",
       "41   http://www.shanghairanking.com/institution/kyo...  \n",
       "44   http://www.shanghairanking.com/institution/uni...  \n",
       "45   http://www.shanghairanking.com/institution/uni...  \n",
       "54   http://www.shanghairanking.com/institution/utr...  \n",
       "57   http://www.shanghairanking.com/institution/uni...  \n",
       "..                                                 ...  \n",
       "995  http://www.shanghairanking.com/institution/uni...  \n",
       "996  http://www.shanghairanking.com/institution/war...  \n",
       "997  http://www.shanghairanking.com/institution/wes...  \n",
       "998  http://www.shanghairanking.com/institution/wro...  \n",
       "999  http://www.shanghairanking.com/institution/yan...  \n",
       "\n",
       "[907 rows x 6 columns]"
      ]
     },
     "execution_count": 62,
     "metadata": {},
     "output_type": "execute_result"
    }
   ],
   "source": [
    "df[df['Ranking'].duplicated()]\n",
    "#The universit that have same sccores have same renk which lead ro duplicates rank and score "
   ]
  },
  {
   "cell_type": "code",
   "execution_count": 84,
   "id": "20399481-aa2e-49a8-881a-7bc2a09a2bb2",
   "metadata": {
    "tags": []
   },
   "outputs": [
    {
     "data": {
      "text/html": [
       "<div>\n",
       "<style scoped>\n",
       "    .dataframe tbody tr th:only-of-type {\n",
       "        vertical-align: middle;\n",
       "    }\n",
       "\n",
       "    .dataframe tbody tr th {\n",
       "        vertical-align: top;\n",
       "    }\n",
       "\n",
       "    .dataframe thead th {\n",
       "        text-align: right;\n",
       "    }\n",
       "</style>\n",
       "<table border=\"1\" class=\"dataframe\">\n",
       "  <thead>\n",
       "    <tr style=\"text-align: right;\">\n",
       "      <th></th>\n",
       "      <th>Ranking</th>\n",
       "      <th>University Name</th>\n",
       "      <th>National/Regional Rank</th>\n",
       "      <th>Total Score</th>\n",
       "      <th>LOGO</th>\n",
       "      <th>University Detail</th>\n",
       "    </tr>\n",
       "  </thead>\n",
       "  <tbody>\n",
       "    <tr>\n",
       "      <th>41</th>\n",
       "      <td>41</td>\n",
       "      <td>Kyoto University</td>\n",
       "      <td>2</td>\n",
       "      <td>34.2</td>\n",
       "      <td>http://www.shanghairanking.com/_uni/logo/ac21f...</td>\n",
       "      <td>http://www.shanghairanking.com/institution/kyo...</td>\n",
       "    </tr>\n",
       "    <tr>\n",
       "      <th>44</th>\n",
       "      <td>44</td>\n",
       "      <td>University of British Columbia</td>\n",
       "      <td>2</td>\n",
       "      <td>33.8</td>\n",
       "      <td>http://www.shanghairanking.com/_uni/logo/38ff7...</td>\n",
       "      <td>http://www.shanghairanking.com/institution/uni...</td>\n",
       "    </tr>\n",
       "    <tr>\n",
       "      <th>45</th>\n",
       "      <td>44</td>\n",
       "      <td>University of Minnesota, Twin Cities</td>\n",
       "      <td>25-26</td>\n",
       "      <td>33.8</td>\n",
       "      <td>http://www.shanghairanking.com/_uni/logo/7f9e6...</td>\n",
       "      <td>http://www.shanghairanking.com/institution/uni...</td>\n",
       "    </tr>\n",
       "    <tr>\n",
       "      <th>54</th>\n",
       "      <td>54</td>\n",
       "      <td>Utrecht University</td>\n",
       "      <td>1</td>\n",
       "      <td>32.0</td>\n",
       "      <td>http://www.shanghairanking.com/_uni/logo/50630...</td>\n",
       "      <td>http://www.shanghairanking.com/institution/utr...</td>\n",
       "    </tr>\n",
       "    <tr>\n",
       "      <th>57</th>\n",
       "      <td>57</td>\n",
       "      <td>University of Munich</td>\n",
       "      <td>2</td>\n",
       "      <td>31.5</td>\n",
       "      <td>http://www.shanghairanking.com/_uni/logo/6d76d...</td>\n",
       "      <td>http://www.shanghairanking.com/institution/uni...</td>\n",
       "    </tr>\n",
       "    <tr>\n",
       "      <th>...</th>\n",
       "      <td>...</td>\n",
       "      <td>...</td>\n",
       "      <td>...</td>\n",
       "      <td>...</td>\n",
       "      <td>...</td>\n",
       "      <td>...</td>\n",
       "    </tr>\n",
       "    <tr>\n",
       "      <th>995</th>\n",
       "      <td>901-1000</td>\n",
       "      <td>University of Wuppertal</td>\n",
       "      <td>46-47</td>\n",
       "      <td>0.0</td>\n",
       "      <td>http://www.shanghairanking.com/_uni/logo/2ab2f...</td>\n",
       "      <td>http://www.shanghairanking.com/institution/uni...</td>\n",
       "    </tr>\n",
       "    <tr>\n",
       "      <th>996</th>\n",
       "      <td>901-1000</td>\n",
       "      <td>Warsaw University of Technology</td>\n",
       "      <td>7-11</td>\n",
       "      <td>0.0</td>\n",
       "      <td>http://www.shanghairanking.com/_uni/logo/a347c...</td>\n",
       "      <td>http://www.shanghairanking.com/institution/war...</td>\n",
       "    </tr>\n",
       "    <tr>\n",
       "      <th>997</th>\n",
       "      <td>901-1000</td>\n",
       "      <td>Western Norway University of Applied Sciences</td>\n",
       "      <td>6-7</td>\n",
       "      <td>0.0</td>\n",
       "      <td>http://www.shanghairanking.com/_uni/logo-jpg/d...</td>\n",
       "      <td>http://www.shanghairanking.com/institution/wes...</td>\n",
       "    </tr>\n",
       "    <tr>\n",
       "      <th>998</th>\n",
       "      <td>901-1000</td>\n",
       "      <td>Wroclaw University of Science and Technology</td>\n",
       "      <td>7-11</td>\n",
       "      <td>0.0</td>\n",
       "      <td>http://www.shanghairanking.com/_uni/logo/ed480...</td>\n",
       "      <td>http://www.shanghairanking.com/institution/wro...</td>\n",
       "    </tr>\n",
       "    <tr>\n",
       "      <th>999</th>\n",
       "      <td>901-1000</td>\n",
       "      <td>Yantai University</td>\n",
       "      <td>148-163</td>\n",
       "      <td>0.0</td>\n",
       "      <td>http://www.shanghairanking.com/_uni/logo/78347...</td>\n",
       "      <td>http://www.shanghairanking.com/institution/yan...</td>\n",
       "    </tr>\n",
       "  </tbody>\n",
       "</table>\n",
       "<p>809 rows × 6 columns</p>\n",
       "</div>"
      ],
      "text/plain": [
       "      Ranking                                University Name  \\\n",
       "41         41                               Kyoto University   \n",
       "44         44                 University of British Columbia   \n",
       "45         44           University of Minnesota, Twin Cities   \n",
       "54         54                             Utrecht University   \n",
       "57         57                           University of Munich   \n",
       "..        ...                                            ...   \n",
       "995  901-1000                        University of Wuppertal   \n",
       "996  901-1000                Warsaw University of Technology   \n",
       "997  901-1000  Western Norway University of Applied Sciences   \n",
       "998  901-1000   Wroclaw University of Science and Technology   \n",
       "999  901-1000                              Yantai University   \n",
       "\n",
       "    National/Regional Rank  Total Score  \\\n",
       "41                       2         34.2   \n",
       "44                       2         33.8   \n",
       "45                   25-26         33.8   \n",
       "54                       1         32.0   \n",
       "57                       2         31.5   \n",
       "..                     ...          ...   \n",
       "995                  46-47          0.0   \n",
       "996                   7-11          0.0   \n",
       "997                    6-7          0.0   \n",
       "998                   7-11          0.0   \n",
       "999                148-163          0.0   \n",
       "\n",
       "                                                  LOGO  \\\n",
       "41   http://www.shanghairanking.com/_uni/logo/ac21f...   \n",
       "44   http://www.shanghairanking.com/_uni/logo/38ff7...   \n",
       "45   http://www.shanghairanking.com/_uni/logo/7f9e6...   \n",
       "54   http://www.shanghairanking.com/_uni/logo/50630...   \n",
       "57   http://www.shanghairanking.com/_uni/logo/6d76d...   \n",
       "..                                                 ...   \n",
       "995  http://www.shanghairanking.com/_uni/logo/2ab2f...   \n",
       "996  http://www.shanghairanking.com/_uni/logo/a347c...   \n",
       "997  http://www.shanghairanking.com/_uni/logo-jpg/d...   \n",
       "998  http://www.shanghairanking.com/_uni/logo/ed480...   \n",
       "999  http://www.shanghairanking.com/_uni/logo/78347...   \n",
       "\n",
       "                                    University Detail   \n",
       "41   http://www.shanghairanking.com/institution/kyo...  \n",
       "44   http://www.shanghairanking.com/institution/uni...  \n",
       "45   http://www.shanghairanking.com/institution/uni...  \n",
       "54   http://www.shanghairanking.com/institution/utr...  \n",
       "57   http://www.shanghairanking.com/institution/uni...  \n",
       "..                                                 ...  \n",
       "995  http://www.shanghairanking.com/institution/uni...  \n",
       "996  http://www.shanghairanking.com/institution/war...  \n",
       "997  http://www.shanghairanking.com/institution/wes...  \n",
       "998  http://www.shanghairanking.com/institution/wro...  \n",
       "999  http://www.shanghairanking.com/institution/yan...  \n",
       "\n",
       "[809 rows x 6 columns]"
      ]
     },
     "execution_count": 84,
     "metadata": {},
     "output_type": "execute_result"
    }
   ],
   "source": [
    "df[df[['Ranking','Total Score']].duplicated()]\n",
    "#Each rank is derived by adding 1 to its index because there are 1000 universities and 1000 ranks.\n",
    "#However, when universities have the same score, the one with a name appearing earlier in alphabetical order receives a higher rank, potentially leading to misleading rankings.\n"
   ]
  },
  {
   "cell_type": "code",
   "execution_count": 86,
   "id": "0db5f022-ca3b-4a71-a9ed-3e306d643a10",
   "metadata": {
    "tags": []
   },
   "outputs": [],
   "source": [
    "df['Total Score'] = df['Total Score'].astype(float)\n"
   ]
  },
  {
   "cell_type": "code",
   "execution_count": 108,
   "id": "0baadde3-d7d3-4b64-b516-7b561982d653",
   "metadata": {
    "tags": []
   },
   "outputs": [
    {
     "data": {
      "text/plain": [
       "155"
      ]
     },
     "execution_count": 108,
     "metadata": {},
     "output_type": "execute_result"
    }
   ],
   "source": [
    "df[df['Total Score'].duplicated() & df['Total Score'] > 0].value_counts().sum()\n",
    "# This ensures we exclude universities with a score of 0 from the duplicate consideration, focusing on the top 155 universities."
   ]
  },
  {
   "cell_type": "code",
   "execution_count": 110,
   "id": "2c8e38c8-ff28-44b4-a140-67b69885a983",
   "metadata": {
    "tags": []
   },
   "outputs": [
    {
     "data": {
      "text/html": [
       "<div>\n",
       "<style scoped>\n",
       "    .dataframe tbody tr th:only-of-type {\n",
       "        vertical-align: middle;\n",
       "    }\n",
       "\n",
       "    .dataframe tbody tr th {\n",
       "        vertical-align: top;\n",
       "    }\n",
       "\n",
       "    .dataframe thead th {\n",
       "        text-align: right;\n",
       "    }\n",
       "</style>\n",
       "<table border=\"1\" class=\"dataframe\">\n",
       "  <thead>\n",
       "    <tr style=\"text-align: right;\">\n",
       "      <th></th>\n",
       "      <th>Ranking</th>\n",
       "      <th>University Name</th>\n",
       "      <th>National/Regional Rank</th>\n",
       "      <th>Total Score</th>\n",
       "      <th>LOGO</th>\n",
       "      <th>University Detail</th>\n",
       "    </tr>\n",
       "  </thead>\n",
       "  <tbody>\n",
       "    <tr>\n",
       "      <th>990</th>\n",
       "      <td>901-1000</td>\n",
       "      <td>University of The Free State</td>\n",
       "      <td>8-9</td>\n",
       "      <td>0.0</td>\n",
       "      <td>http://www.shanghairanking.com/_uni/logo/49df8...</td>\n",
       "      <td>http://www.shanghairanking.com/institution/uni...</td>\n",
       "    </tr>\n",
       "    <tr>\n",
       "      <th>991</th>\n",
       "      <td>901-1000</td>\n",
       "      <td>University of Tours</td>\n",
       "      <td>28</td>\n",
       "      <td>0.0</td>\n",
       "      <td>http://www.shanghairanking.com/_uni/logo-jpg/0...</td>\n",
       "      <td>http://www.shanghairanking.com/institution/uni...</td>\n",
       "    </tr>\n",
       "    <tr>\n",
       "      <th>992</th>\n",
       "      <td>901-1000</td>\n",
       "      <td>University of Ulster</td>\n",
       "      <td>61-63</td>\n",
       "      <td>0.0</td>\n",
       "      <td>http://www.shanghairanking.com/_uni/logo/df5c5...</td>\n",
       "      <td>http://www.shanghairanking.com/institution/uni...</td>\n",
       "    </tr>\n",
       "    <tr>\n",
       "      <th>993</th>\n",
       "      <td>901-1000</td>\n",
       "      <td>University of Urbino</td>\n",
       "      <td>41-46</td>\n",
       "      <td>0.0</td>\n",
       "      <td>http://www.shanghairanking.com/_uni/logo/203c9...</td>\n",
       "      <td>http://www.shanghairanking.com/institution/uni...</td>\n",
       "    </tr>\n",
       "    <tr>\n",
       "      <th>994</th>\n",
       "      <td>901-1000</td>\n",
       "      <td>University of Valladolid</td>\n",
       "      <td>35-40</td>\n",
       "      <td>0.0</td>\n",
       "      <td>http://www.shanghairanking.com/_uni/logo/ad34a...</td>\n",
       "      <td>http://www.shanghairanking.com/institution/uni...</td>\n",
       "    </tr>\n",
       "    <tr>\n",
       "      <th>995</th>\n",
       "      <td>901-1000</td>\n",
       "      <td>University of Wuppertal</td>\n",
       "      <td>46-47</td>\n",
       "      <td>0.0</td>\n",
       "      <td>http://www.shanghairanking.com/_uni/logo/2ab2f...</td>\n",
       "      <td>http://www.shanghairanking.com/institution/uni...</td>\n",
       "    </tr>\n",
       "    <tr>\n",
       "      <th>996</th>\n",
       "      <td>901-1000</td>\n",
       "      <td>Warsaw University of Technology</td>\n",
       "      <td>7-11</td>\n",
       "      <td>0.0</td>\n",
       "      <td>http://www.shanghairanking.com/_uni/logo/a347c...</td>\n",
       "      <td>http://www.shanghairanking.com/institution/war...</td>\n",
       "    </tr>\n",
       "    <tr>\n",
       "      <th>997</th>\n",
       "      <td>901-1000</td>\n",
       "      <td>Western Norway University of Applied Sciences</td>\n",
       "      <td>6-7</td>\n",
       "      <td>0.0</td>\n",
       "      <td>http://www.shanghairanking.com/_uni/logo-jpg/d...</td>\n",
       "      <td>http://www.shanghairanking.com/institution/wes...</td>\n",
       "    </tr>\n",
       "    <tr>\n",
       "      <th>998</th>\n",
       "      <td>901-1000</td>\n",
       "      <td>Wroclaw University of Science and Technology</td>\n",
       "      <td>7-11</td>\n",
       "      <td>0.0</td>\n",
       "      <td>http://www.shanghairanking.com/_uni/logo/ed480...</td>\n",
       "      <td>http://www.shanghairanking.com/institution/wro...</td>\n",
       "    </tr>\n",
       "    <tr>\n",
       "      <th>999</th>\n",
       "      <td>901-1000</td>\n",
       "      <td>Yantai University</td>\n",
       "      <td>148-163</td>\n",
       "      <td>0.0</td>\n",
       "      <td>http://www.shanghairanking.com/_uni/logo/78347...</td>\n",
       "      <td>http://www.shanghairanking.com/institution/yan...</td>\n",
       "    </tr>\n",
       "  </tbody>\n",
       "</table>\n",
       "</div>"
      ],
      "text/plain": [
       "      Ranking                                University Name  \\\n",
       "990  901-1000                   University of The Free State   \n",
       "991  901-1000                            University of Tours   \n",
       "992  901-1000                           University of Ulster   \n",
       "993  901-1000                           University of Urbino   \n",
       "994  901-1000                       University of Valladolid   \n",
       "995  901-1000                        University of Wuppertal   \n",
       "996  901-1000                Warsaw University of Technology   \n",
       "997  901-1000  Western Norway University of Applied Sciences   \n",
       "998  901-1000   Wroclaw University of Science and Technology   \n",
       "999  901-1000                              Yantai University   \n",
       "\n",
       "    National/Regional Rank  Total Score  \\\n",
       "990                    8-9          0.0   \n",
       "991                     28          0.0   \n",
       "992                  61-63          0.0   \n",
       "993                  41-46          0.0   \n",
       "994                  35-40          0.0   \n",
       "995                  46-47          0.0   \n",
       "996                   7-11          0.0   \n",
       "997                    6-7          0.0   \n",
       "998                   7-11          0.0   \n",
       "999                148-163          0.0   \n",
       "\n",
       "                                                  LOGO  \\\n",
       "990  http://www.shanghairanking.com/_uni/logo/49df8...   \n",
       "991  http://www.shanghairanking.com/_uni/logo-jpg/0...   \n",
       "992  http://www.shanghairanking.com/_uni/logo/df5c5...   \n",
       "993  http://www.shanghairanking.com/_uni/logo/203c9...   \n",
       "994  http://www.shanghairanking.com/_uni/logo/ad34a...   \n",
       "995  http://www.shanghairanking.com/_uni/logo/2ab2f...   \n",
       "996  http://www.shanghairanking.com/_uni/logo/a347c...   \n",
       "997  http://www.shanghairanking.com/_uni/logo-jpg/d...   \n",
       "998  http://www.shanghairanking.com/_uni/logo/ed480...   \n",
       "999  http://www.shanghairanking.com/_uni/logo/78347...   \n",
       "\n",
       "                                    University Detail   \n",
       "990  http://www.shanghairanking.com/institution/uni...  \n",
       "991  http://www.shanghairanking.com/institution/uni...  \n",
       "992  http://www.shanghairanking.com/institution/uni...  \n",
       "993  http://www.shanghairanking.com/institution/uni...  \n",
       "994  http://www.shanghairanking.com/institution/uni...  \n",
       "995  http://www.shanghairanking.com/institution/uni...  \n",
       "996  http://www.shanghairanking.com/institution/war...  \n",
       "997  http://www.shanghairanking.com/institution/wes...  \n",
       "998  http://www.shanghairanking.com/institution/wro...  \n",
       "999  http://www.shanghairanking.com/institution/yan...  "
      ]
     },
     "execution_count": 110,
     "metadata": {},
     "output_type": "execute_result"
    }
   ],
   "source": [
    "df[df['Total Score'].duplicated()].tail(10)"
   ]
  },
  {
   "cell_type": "code",
   "execution_count": 116,
   "id": "2ad8d9d3-4100-474b-a012-82e9a6f6ec49",
   "metadata": {
    "tags": []
   },
   "outputs": [
    {
     "data": {
      "text/plain": [
       "Ranking                    object\n",
       "University Name            object\n",
       "National/Regional Rank     object\n",
       "Total Score               float64\n",
       "LOGO                       object\n",
       "University Detail          object\n",
       "dtype: object"
      ]
     },
     "execution_count": 116,
     "metadata": {},
     "output_type": "execute_result"
    }
   ],
   "source": [
    "df.dtypes"
   ]
  },
  {
   "cell_type": "code",
   "execution_count": 136,
   "id": "b265be3a-94ce-4f4a-8d75-4864ad651356",
   "metadata": {
    "tags": []
   },
   "outputs": [],
   "source": [
    "df['University Name'] = df['University Name'].astype(str)\n"
   ]
  },
  {
   "cell_type": "code",
   "execution_count": 140,
   "id": "fe839a4a-7bc2-4770-bc7f-2fb6fd9c415e",
   "metadata": {
    "tags": []
   },
   "outputs": [
    {
     "data": {
      "text/plain": [
       "Ranking                    object\n",
       "University Name            object\n",
       "National/Regional Rank     object\n",
       "Total Score               float64\n",
       "LOGO                       object\n",
       "University Detail          object\n",
       "dtype: object"
      ]
     },
     "execution_count": 140,
     "metadata": {},
     "output_type": "execute_result"
    }
   ],
   "source": [
    "df.dtypes"
   ]
  },
  {
   "cell_type": "code",
   "execution_count": 210,
   "id": "5612e3af-1c86-4a3a-b9fc-031354d58b8f",
   "metadata": {
    "tags": []
   },
   "outputs": [
    {
     "data": {
      "text/plain": [
       "0             1\n",
       "1             2\n",
       "2             3\n",
       "3             4\n",
       "4             5\n",
       "         ...   \n",
       "995    901-1000\n",
       "996    901-1000\n",
       "997    901-1000\n",
       "998    901-1000\n",
       "999    901-1000\n",
       "Name: Ranking, Length: 1000, dtype: object"
      ]
     },
     "execution_count": 210,
     "metadata": {},
     "output_type": "execute_result"
    }
   ],
   "source": [
    "df['Ranking']"
   ]
  },
  {
   "cell_type": "code",
   "execution_count": 142,
   "id": "d7ba7f9c-b3fc-4aba-a9e9-6bbbc54d6d09",
   "metadata": {
    "tags": []
   },
   "outputs": [],
   "source": [
    "df['LOGO'] = df['LOGO'].astype(str)\n"
   ]
  },
  {
   "cell_type": "code",
   "execution_count": 146,
   "id": "1693e3e7-f926-4687-9914-e098fd246ea5",
   "metadata": {
    "tags": []
   },
   "outputs": [],
   "source": [
    "df['University Detail '] = df['University Detail '].astype(str)\n"
   ]
  },
  {
   "cell_type": "code",
   "execution_count": 148,
   "id": "9297d715-4e14-45b1-9823-e91fe157b665",
   "metadata": {
    "tags": []
   },
   "outputs": [
    {
     "data": {
      "text/plain": [
       "Ranking                    object\n",
       "University Name            object\n",
       "National/Regional Rank     object\n",
       "Total Score               float64\n",
       "LOGO                       object\n",
       "University Detail          object\n",
       "dtype: object"
      ]
     },
     "execution_count": 148,
     "metadata": {},
     "output_type": "execute_result"
    }
   ],
   "source": [
    "df.dtypes"
   ]
  },
  {
   "cell_type": "code",
   "execution_count": null,
   "id": "f1d95da5-a3ba-473a-8243-aa177cadae20",
   "metadata": {},
   "outputs": [],
   "source": [
    "#go back to 7th dimension Accuracy "
   ]
  },
  {
   "cell_type": "markdown",
   "id": "5ecc7dbb-6867-44cf-8f99-1b969a80be40",
   "metadata": {},
   "source": [
    "### Dealing with outliers:"
   ]
  },
  {
   "cell_type": "markdown",
   "id": "88347887-4bdf-48af-9486-cb8fe80c97af",
   "metadata": {},
   "source": [
    "**How to remove Outliers?**\n",
    "Most of the ways to deal with outliers are similar to the methods of missing values like deleting rows, transforming them, binning them, treat them as a separate group, imputing values and other statistical methods. Here, we will discuss the common techniques used to deal with outliers:\n",
    "\n",
    "1. Deleting rows: We delete outlier values if it is due to data entry error, data processing error or outlier rows are very small in numbers. We can also use trimming at both ends to remove outliers.\n",
    "\n",
    "2. Imputing: Like imputation of missing values, we can also impute outliers. We can use mean, median, mode imputation methods. Before imputing values, we should analyse if it is natural outlier or artificial. If it is artificial, we can go with imputing values. We can also use statistical model to predict values of outlier rows and after that we can impute it with predicted values.\n",
    "\n",
    "3. Treat separately: If there are significant number of outliers, we should treat them separately in the statistical model. One of the approach is to treat both groups as two different groups and build individual model for both groups and then combine the output.\n"
   ]
  },
  {
   "cell_type": "code",
   "execution_count": null,
   "id": "25a585f0-2b9c-42fa-bf21-cacc6aa3be3f",
   "metadata": {},
   "outputs": [],
   "source": []
  },
  {
   "cell_type": "markdown",
   "id": "98548b66-e309-4eb8-a5dc-65fe0abbf1e8",
   "metadata": {},
   "source": [
    "## 3. Univariate Analysis: \n",
    "\n",
    "This involves examining single variables to understand their characteristics (distribution, central tendency, dispersion, and shape).\n",
    "\n",
    "We calculate **numerical values** about the data that tells us about the distribution of the data. We also **draw graphs** showing visually how the data is distributed. **To answer the following questions about Features/characteristics of Data:**\n",
    "- Where is the center of the data? (location)\n",
    "- How much does the data vary? (scale)\n",
    "- What is the shape of the data? (shape)\n",
    "\n",
    "**The benefits of this analysis:**\n",
    "Statistics summary gives a high-level idea to identify whether the data has any outliers, data entry error, distribution of data such as the data is normally distributed or left/right skewed\n",
    "\n",
    "**In this step, we will explore variables one by one using following approaches:**"
   ]
  },
  {
   "cell_type": "markdown",
   "id": "d6718111-7ac2-4fff-9851-654655b62e0b",
   "metadata": {},
   "source": [
    "### 1. Univariate Graphical Analysis:\n",
    "Method to perform uni-variate analysis will depend on whether the variable type is categorical or numerical."
   ]
  },
  {
   "cell_type": "code",
   "execution_count": null,
   "id": "db79d803-b75c-4686-a623-e8420321a90f",
   "metadata": {
    "tags": []
   },
   "outputs": [],
   "source": []
  },
  {
   "cell_type": "markdown",
   "id": "0d57c4b9-9bb3-494d-85dd-b8d39afda139",
   "metadata": {},
   "source": [
    "#### I. Categorical Variables:\n",
    "\n",
    "we’ll use frequency table to understand distribution of each category\n",
    "- Bar Chart (Ordinal) - Orderd\n",
    "- Pie Chart (Nominal) - non Orderd"
   ]
  },
  {
   "cell_type": "code",
   "execution_count": null,
   "id": "72ece4b7-5508-403a-8fb0-f519fc74272a",
   "metadata": {},
   "outputs": [],
   "source": []
  },
  {
   "cell_type": "markdown",
   "id": "d2641f0d-80f2-493b-99b7-15476379a1e2",
   "metadata": {},
   "source": [
    "#### II. Numerical Variables:\n",
    "\n",
    "we need to understand the central tendency and spread of the variable (Descriptive Analysis) using:\n",
    "   - Box plot\n",
    "   - Histogram"
   ]
  },
  {
   "cell_type": "code",
   "execution_count": null,
   "id": "5be16f08-a072-4a02-a3ee-6f9d57786fb4",
   "metadata": {},
   "outputs": [],
   "source": []
  },
  {
   "cell_type": "markdown",
   "id": "d66677d3-44ad-414f-9b39-f9c1995ad043",
   "metadata": {},
   "source": [
    "### 2. Univariate Non-Graphical analysis: \n",
    "\n",
    "- Where is the center of the data? (location) --> **Measures of central tendency**\n",
    "- How much does the data vary? (scale) --> **Measure of variability**\n",
    "- What is the shape of the data? (shape) --> **Measures of variation combined with an average (measure of center) gives a good picture of the distribution of the data.**"
   ]
  },
  {
   "cell_type": "code",
   "execution_count": null,
   "id": "f1058d84-e61e-4f5b-b66a-29931e77821b",
   "metadata": {},
   "outputs": [],
   "source": []
  },
  {
   "cell_type": "markdown",
   "id": "f09bb809-0edd-432b-bf23-abd0840b3e16",
   "metadata": {},
   "source": [
    "## 4. Bivariate/Multivariate Analysis:\n",
    "\n",
    "Here, you look at the relationships between two or more variables. This can involve looking for correlations, patterns, and trends that suggest a relationship or an association.\n",
    "\n",
    "We can perform bi-variate analysis for any combination of categorical and numerical variables. The combination can be:\n",
    "| bi-variate variables   | Plot type |\n",
    "| ------------- | ------------- |\n",
    "| Categorical & Categorical| Stacked Bar Chart |\n",
    "| Categorical & numerical  | scatter plot, histogram, box plot|\n",
    "| numerical  & numerical  | Scatter plot, line chart| \n",
    "\n",
    "\n",
    "Multivariate Analysis:\n",
    "- Heat map\n",
    "- Bar Chart\n",
    "- Scatter Chart\n",
    "- Line Chart"
   ]
  },
  {
   "cell_type": "markdown",
   "id": "838f2864-ce9e-4f15-99c8-052d053154a7",
   "metadata": {},
   "source": [
    "**Categorical & Categorical --> (Stacked Column Chart)**"
   ]
  },
  {
   "cell_type": "code",
   "execution_count": null,
   "id": "73f9f2ac-8477-49ea-9c68-4fe44d4395b6",
   "metadata": {},
   "outputs": [],
   "source": []
  },
  {
   "cell_type": "markdown",
   "id": "730e088f-fe13-40da-8fbb-686f5135fa4d",
   "metadata": {},
   "source": [
    "**Categorical & numerical --> (scatter plot, histogram, box plot)**"
   ]
  },
  {
   "cell_type": "code",
   "execution_count": 202,
   "id": "3590e345-2051-4215-91ac-07d196b510ef",
   "metadata": {
    "tags": []
   },
   "outputs": [
    {
     "data": {
      "image/png": "[encoded data removed]",
      "text/plain": [
       "<Figure size 800x600 with 1 Axes>"
      ]
     },
     "metadata": {},
     "output_type": "display_data"
    }
   ],
   "source": [
    "plt.figure(figsize=(8, 6))\n",
    "plt.scatter(df['Ranking'], df['Total Score'], alpha=0.5)\n",
    "plt.title('Scatter Plot')\n",
    "plt.xlabel('Ranking')\n",
    "plt.ylabel('Total Score')\n",
    "plt.xticks(np.arange(min(df['Total Score']), max(df['Total Score']) + 1, 10))\n",
    "\n",
    "plt.show()"
   ]
  },
  {
   "cell_type": "markdown",
   "id": "20aed48d-b78e-46da-963f-e7f15e2f4dc7",
   "metadata": {},
   "source": [
    "**numerical & numerical --> (Scatter plot, line chart)**"
   ]
  },
  {
   "cell_type": "code",
   "execution_count": null,
   "id": "41023177-01cb-4f39-a750-12be71b13bda",
   "metadata": {},
   "outputs": [],
   "source": [
    "#since there is no numerical values only "
   ]
  },
  {
   "cell_type": "markdown",
   "id": "efb43b30-b1f0-48a4-a19c-195810cc8a0f",
   "metadata": {},
   "source": [
    "We could also use a correlation matrix to get more specific information about the relationship between these two variables."
   ]
  },
  {
   "cell_type": "code",
   "execution_count": null,
   "id": "8406f58f-b825-4a15-8f6e-c68ca66bd483",
   "metadata": {},
   "outputs": [],
   "source": []
  }
 ],
 "metadata": {
  "kernelspec": {
   "display_name": "Python 3 (ipykernel)",
   "language": "python",
   "name": "python3"
  },
  "language_info": {
   "codemirror_mode": {
    "name": "ipython",
    "version": 3
   },
   "file_extension": ".py",
   "mimetype": "text/x-python",
   "name": "python",
   "nbconvert_exporter": "python",
   "pygments_lexer": "ipython3",
   "version": "3.11.7"
  }
 },
 "nbformat": 4,
 "nbformat_minor": 5
}
